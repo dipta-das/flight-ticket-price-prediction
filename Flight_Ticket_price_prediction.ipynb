{
  "nbformat": 4,
  "nbformat_minor": 0,
  "metadata": {
    "colab": {
      "name": "Flight Ticket price prediction.ipynb",
      "provenance": [],
      "authorship_tag": "ABX9TyOHy8d4Z9z4Oadek6BPQVR3",
      "include_colab_link": true
    },
    "kernelspec": {
      "name": "python3",
      "display_name": "Python 3"
    }
  },
  "cells": [
    {
      "cell_type": "markdown",
      "metadata": {
        "id": "view-in-github",
        "colab_type": "text"
      },
      "source": [
        "<a href=\"https://colab.research.google.com/github/dipta-das/flight-ticket-price-prediction/blob/master/Flight_Ticket_price_prediction.ipynb\" target=\"_parent\"><img src=\"https://colab.research.google.com/assets/colab-badge.svg\" alt=\"Open In Colab\"/></a>"
      ]
    },
    {
      "cell_type": "code",
      "metadata": {
        "id": "S1h6l814KfA2",
        "colab_type": "code",
        "colab": {}
      },
      "source": [
        "############ Connecting Dataset for Google driver #############\n",
        "from google.colab import drive \n",
        "drive.mount('/content/gdrive')\n",
        "\n",
        "\n",
        "!ls \"/content/gdrive/My Drive/Dataset/Flight_Price\"\n",
        "import pandas as pd \n",
        "df=pd.read_excel('/content/gdrive/My Drive/Dataset/Flight_Price/Data_Train.xlsx')"
      ],
      "execution_count": 0,
      "outputs": []
    },
    {
      "cell_type": "code",
      "metadata": {
        "id": "sWLQqDPHMP-a",
        "colab_type": "code",
        "colab": {}
      },
      "source": [
        "######### Finding Null value using pandas #########\n",
        "df.isnull().sum()"
      ],
      "execution_count": 0,
      "outputs": []
    },
    {
      "cell_type": "code",
      "metadata": {
        "id": "_-WEXnYsQ-ID",
        "colab_type": "code",
        "colab": {}
      },
      "source": [
        "########### Remving Null Value from Dataset ##########\n",
        "df.dropna(inplace=True)\n",
        "df.isnull().sum()"
      ],
      "execution_count": 0,
      "outputs": []
    },
    {
      "cell_type": "code",
      "metadata": {
        "id": "ibh-yfxFRDA6",
        "colab_type": "code",
        "colab": {}
      },
      "source": [
        "#Select Duplicate Value\n",
        "df.duplicated()\n",
        "#Select Duplicate rows expect first occurrence based on all columns\n",
        "duplicateRowsDF = df[df.duplicated()]\n",
        "print(\"Total Duplicate rows expect first occurrence are :\")\n",
        "duplicateRowsDF.shape"
      ],
      "execution_count": 0,
      "outputs": []
    },
    {
      "cell_type": "code",
      "metadata": {
        "id": "L3eoOD9PL7-0",
        "colab_type": "code",
        "colab": {}
      },
      "source": [
        "#remove duplicate rows in training dataset\n",
        "#keep= first allows us to keep the first\n",
        "df.drop_duplicates(keep='first', inplace=True)"
      ],
      "execution_count": 0,
      "outputs": []
    },
    {
      "cell_type": "code",
      "metadata": {
        "id": "thVXOeTHNtty",
        "colab_type": "code",
        "colab": {}
      },
      "source": [
        "#########df[\"isWeekend\"] = ((pd.to_datetime(df[\"Date_of_Journey\"], format='%d/%m/%Y').dt.dayofweek).astype(int)\n",
        "df[\"isWeekend\"] = ((pd.to_datetime(df[\"Date_of_Journey\"], format = '%d/%m/%Y').dt.dayofweek) // 5 == 1).astype(int)\n",
        "df[\"Day_of_Week\"] = pd.to_datetime(df[\"Date_of_Journey\"], format = '%d/%m/%Y').dt.day_name()\n",
        "df[\"Day_Of_Journey\"] = pd.to_datetime(df[\"Date_of_Journey\"], format = '%d/%m/%Y').dt.day\n",
        "df[\"Month_of_Journey\"] = pd.to_datetime(df[\"Date_of_Journey\"], format = '%d/%m/%Y').dt.month"
      ],
      "execution_count": 0,
      "outputs": []
    },
    {
      "cell_type": "code",
      "metadata": {
        "id": "RGnhnTLqRCMu",
        "colab_type": "code",
        "colab": {}
      },
      "source": [
        "#######Selecting a perticular column as an list\n",
        "duration = list(df[\"Duration\"])\n",
        "#######Selection a perticular column as object\n",
        "duration1 = df['Duration'].head()\n",
        "print(duration)\n"
      ],
      "execution_count": 0,
      "outputs": []
    },
    {
      "cell_type": "code",
      "metadata": {
        "id": "tdg60QA2J8xk",
        "colab_type": "code",
        "colab": {}
      },
      "source": [
        "for i in range(len(duration)) :\n",
        "    if len(duration[i].split()) != 2:\n",
        "        if 'h' in duration[i] :\n",
        "            duration[i] = duration[i].strip() + ' 0m'\n",
        "        elif 'm' in duration[i] :\n",
        "            duration[i] = '0h {}'.format(duration[i].strip())\n",
        "\n",
        "dur_hours = []\n",
        "dur_minutes = []  \n",
        "dur_seconds = []\n",
        "for i in range(len(duration)) :\n",
        "    dur_minutes.append(int(duration[i].split()[0][:-1])*60 + int(duration[i].split()[1][:-1]))\n",
        "    dur_seconds.append(int(duration[i].split()[0][:-1])*60*60 + int(duration[i].split()[1][:-1])*60)\n",
        "df[\"Duration_minutes\"] = dur_minutes\n",
        "df.drop([\"Duration\"], axis=1, inplace = True)"
      ],
      "execution_count": 0,
      "outputs": []
    },
    {
      "cell_type": "code",
      "metadata": {
        "id": "5eg1TRG-fCQd",
        "colab_type": "code",
        "colab": {}
      },
      "source": [
        "import numpy as np\n",
        "X = df.drop(['Price'], axis=1)\n",
        "y = np.log1p(df[\"Price\"])"
      ],
      "execution_count": 0,
      "outputs": []
    },
    {
      "cell_type": "code",
      "metadata": {
        "id": "YiW0qk55MyHY",
        "colab_type": "code",
        "colab": {}
      },
      "source": [
        "!ls \"/content/gdrive/My Drive/Dataset/Flight_Price\"\n",
        "import pandas as pd \n",
        "df_to_predict=pd.read_excel('/content/gdrive/My Drive/Dataset/Flight_Price/Test_set.xlsx')"
      ],
      "execution_count": 0,
      "outputs": []
    },
    {
      "cell_type": "code",
      "metadata": {
        "id": "pqXCaD_damqp",
        "colab_type": "code",
        "colab": {}
      },
      "source": [
        "X_to_predict = df_to_predict"
      ],
      "execution_count": 0,
      "outputs": []
    },
    {
      "cell_type": "code",
      "metadata": {
        "id": "F05QHRLZZNn_",
        "colab_type": "code",
        "colab": {
          "base_uri": "https://localhost:8080/",
          "height": 360
        },
        "outputId": "8e23c60d-02e6-4178-c22d-791d96b21936"
      },
      "source": [
        "X_categorical = X.select_dtypes(exclude=['int', 'float'])\n",
        "X_numerical = X.select_dtypes(include=['int', 'float'])\n",
        "\n",
        "X_to_predict_categorical = X_to_predict.select_dtypes(exclude=['int', 'float'])\n",
        "X_to_predict_numerical = X_to_predict.select_dtypes(include=['int', 'float'])\n",
        "print(X_to_predict_categorical)\n",
        "print(X_to_predict_numerical)"
      ],
      "execution_count": 16,
      "outputs": [
        {
          "output_type": "stream",
          "text": [
            "                Airline  ...              Additional_Info\n",
            "0           Jet Airways  ...                      No info\n",
            "1                IndiGo  ...                      No info\n",
            "2           Jet Airways  ...  In-flight meal not included\n",
            "3     Multiple carriers  ...                      No info\n",
            "4              Air Asia  ...                      No info\n",
            "...                 ...  ...                          ...\n",
            "2666          Air India  ...                      No info\n",
            "2667             IndiGo  ...                      No info\n",
            "2668        Jet Airways  ...                      No info\n",
            "2669          Air India  ...                      No info\n",
            "2670  Multiple carriers  ...                      No info\n",
            "\n",
            "[2671 rows x 10 columns]\n",
            "Empty DataFrame\n",
            "Columns: []\n",
            "Index: [0, 1, 2, 3, 4, 5, 6, 7, 8, 9, 10, 11, 12, 13, 14, 15, 16, 17, 18, 19, 20, 21, 22, 23, 24, 25, 26, 27, 28, 29, 30, 31, 32, 33, 34, 35, 36, 37, 38, 39, 40, 41, 42, 43, 44, 45, 46, 47, 48, 49, 50, 51, 52, 53, 54, 55, 56, 57, 58, 59, 60, 61, 62, 63, 64, 65, 66, 67, 68, 69, 70, 71, 72, 73, 74, 75, 76, 77, 78, 79, 80, 81, 82, 83, 84, 85, 86, 87, 88, 89, 90, 91, 92, 93, 94, 95, 96, 97, 98, 99, ...]\n",
            "\n",
            "[2671 rows x 0 columns]\n"
          ],
          "name": "stdout"
        }
      ]
    }
  ]
}