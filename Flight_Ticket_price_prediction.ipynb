{
  "nbformat": 4,
  "nbformat_minor": 0,
  "metadata": {
    "colab": {
      "name": "Flight Ticket price prediction.ipynb",
      "provenance": [],
      "authorship_tag": "ABX9TyO3WUVG5y+42prJtFRPAOAn"
    },
    "kernelspec": {
      "name": "python3",
      "display_name": "Python 3"
    }
  },
  "cells": [
    {
      "cell_type": "code",
      "metadata": {
        "id": "S1h6l814KfA2",
        "colab_type": "code",
        "colab": {}
      },
      "source": [
        "############ Connecting Dataset for Google driver #############\n",
        "from google.colab import drive \n",
        "drive.mount('/content/gdrive')\n",
        "\n",
        "\n",
        "!ls \"/content/gdrive/My Drive/Dataset/Flight_Price\"\n",
        "import pandas as pd \n",
        "df=pd.read_excel('/content/gdrive/My Drive/Dataset/Flight_Price/Data_Train.xlsx')"
      ],
      "execution_count": 0,
      "outputs": []
    },
    {
      "cell_type": "code",
      "metadata": {
        "id": "sWLQqDPHMP-a",
        "colab_type": "code",
        "colab": {}
      },
      "source": [
        "######### Finding Null value using pandas #########\n",
        "df.isnull().sum()"
      ],
      "execution_count": 0,
      "outputs": []
    },
    {
      "cell_type": "code",
      "metadata": {
        "id": "_-WEXnYsQ-ID",
        "colab_type": "code",
        "colab": {}
      },
      "source": [
        "########### Remving Null Value from Dataset ##########\n",
        "df.dropna(inplace=True)\n",
        "df.isnull().sum()"
      ],
      "execution_count": 0,
      "outputs": []
    },
    {
      "cell_type": "code",
      "metadata": {
        "id": "ibh-yfxFRDA6",
        "colab_type": "code",
        "colab": {}
      },
      "source": [
        "#Select Duplicate Value\n",
        "df.duplicated()\n",
        "#Select Duplicate rows expect first occurrence based on all columns\n",
        "duplicateRowsDF = df[df.duplicated()]\n",
        "print(\"Total Duplicate rows expect first occurrence are :\")\n",
        "duplicateRowsDF.shape"
      ],
      "execution_count": 0,
      "outputs": []
    },
    {
      "cell_type": "code",
      "metadata": {
        "id": "L3eoOD9PL7-0",
        "colab_type": "code",
        "colab": {}
      },
      "source": [
        "#remove duplicate rows in training dataset\n",
        "#keep= first allows us to keep the first\n",
        "df.drop_duplicates(keep='first', inplace=True)"
      ],
      "execution_count": 0,
      "outputs": []
    },
    {
      "cell_type": "code",
      "metadata": {
        "id": "thVXOeTHNtty",
        "colab_type": "code",
        "colab": {}
      },
      "source": [
        "#########df[\"isWeekend\"] = ((pd.to_datetime(df[\"Date_of_Journey\"], format='%d/%m/%Y').dt.dayofweek).astype(int)\n",
        "df[\"isWeekend\"] = ((pd.to_datetime(df[\"Date_of_Journey\"], format = '%d/%m/%Y').dt.dayofweek) // 5 == 1).astype(int)\n",
        "print(df[\"isWeekend\"])"
      ],
      "execution_count": 0,
      "outputs": []
    }
  ]
}