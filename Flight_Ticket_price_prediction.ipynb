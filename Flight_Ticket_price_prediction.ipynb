{
  "nbformat": 4,
  "nbformat_minor": 0,
  "metadata": {
    "colab": {
      "name": "Flight Ticket price prediction.ipynb",
      "provenance": [],
      "collapsed_sections": [],
      "authorship_tag": "ABX9TyNzdzRgqT0kCtxrRHyxV4Rz"
    },
    "kernelspec": {
      "name": "python3",
      "display_name": "Python 3"
    }
  },
  "cells": [
    {
      "cell_type": "code",
      "metadata": {
        "id": "S1h6l814KfA2",
        "colab_type": "code",
        "colab": {}
      },
      "source": [
        "############ Connecting Dataset for Google driver #############\n",
        "from google.colab import drive \n",
        "drive.mount('/content/gdrive')\n",
        "\n",
        "\n",
        "!ls \"/content/gdrive/My Drive/Dataset/Flight_Price\"\n",
        "import pandas as pd \n",
        "df_train=pd.read_excel('/content/gdrive/My Drive/Dataset/Flight_Price/Data_Train.xlsx')\n",
        "df_to_predict=pd.read_excel('/content/gdrive/My Drive/Dataset/Flight_Price/Test_set.xlsx')"
      ],
      "execution_count": 0,
      "outputs": []
    },
    {
      "cell_type": "code",
      "metadata": {
        "id": "HD396Wh2yD1h",
        "colab_type": "code",
        "colab": {}
      },
      "source": [
        "print(\"Number of rows in Training DS: \", df_train.shape)\n",
        "print(\"Number of rows in Training DS: \", df_to_predict.shape)"
      ],
      "execution_count": 0,
      "outputs": []
    },
    {
      "cell_type": "code",
      "metadata": {
        "id": "sWLQqDPHMP-a",
        "colab_type": "code",
        "colab": {}
      },
      "source": [
        "######### Finding Null value using pandas #########\n",
        "df_train.isnull().sum()"
      ],
      "execution_count": 0,
      "outputs": []
    },
    {
      "cell_type": "code",
      "metadata": {
        "id": "_-WEXnYsQ-ID",
        "colab_type": "code",
        "colab": {}
      },
      "source": [
        "########### Remving Null Value from Dataset ##########\n",
        "df_train.dropna(inplace=True)\n",
        "df_train.isnull().sum()"
      ],
      "execution_count": 0,
      "outputs": []
    },
    {
      "cell_type": "code",
      "metadata": {
        "id": "ibh-yfxFRDA6",
        "colab_type": "code",
        "colab": {}
      },
      "source": [
        "#Select Duplicate Value\n",
        "df_train.duplicated()\n",
        "#Select Duplicate rows expect first occurrence based on all columns\n",
        "duplicateRowsDF = df_train[df_train.duplicated()]\n",
        "print(\"Total Duplicate rows expect first occurrence are :\")\n",
        "duplicateRowsDF.shape"
      ],
      "execution_count": 0,
      "outputs": []
    },
    {
      "cell_type": "code",
      "metadata": {
        "id": "L3eoOD9PL7-0",
        "colab_type": "code",
        "colab": {}
      },
      "source": [
        "#remove duplicate rows in training dataset\n",
        "#keep= first allows us to keep the first\n",
        "df_train.drop_duplicates(keep='first', inplace=True)"
      ],
      "execution_count": 0,
      "outputs": []
    },
    {
      "cell_type": "code",
      "metadata": {
        "id": "thVXOeTHNtty",
        "colab_type": "code",
        "colab": {}
      },
      "source": [
        "#########df[\"isWeekend\"] = ((pd.to_datetime(df[\"Date_of_Journey\"], format='%d/%m/%Y').dt.dayofweek).astype(int)\n",
        "df_train[\"isWeekend\"] = ((pd.to_datetime(df_train[\"Date_of_Journey\"], format = '%d/%m/%Y').dt.dayofweek) // 5 == 1).astype(int)\n",
        "df_train[\"Day_of_Week\"] = pd.to_datetime(df_train[\"Date_of_Journey\"], format = '%d/%m/%Y').dt.day_name()\n",
        "df_train[\"Day_Of_Journey\"] = pd.to_datetime(df_train[\"Date_of_Journey\"], format = '%d/%m/%Y').dt.day\n",
        "df_train[\"Month_of_Journey\"] = pd.to_datetime(df_train[\"Date_of_Journey\"], format = '%d/%m/%Y').dt.month"
      ],
      "execution_count": 0,
      "outputs": []
    },
    {
      "cell_type": "code",
      "metadata": {
        "id": "RGnhnTLqRCMu",
        "colab_type": "code",
        "colab": {}
      },
      "source": [
        "#######Selecting a perticular column as an list\n",
        "duration = list(df_train[\"Duration\"])\n",
        "#######Selection a perticular column as object\n",
        "duration1 = df_train['Duration'].head()\n",
        "print(duration)\n"
      ],
      "execution_count": 0,
      "outputs": []
    },
    {
      "cell_type": "code",
      "metadata": {
        "id": "tdg60QA2J8xk",
        "colab_type": "code",
        "colab": {}
      },
      "source": [
        "for i in range(len(duration)) :\n",
        "    if len(duration[i].split()) != 2:\n",
        "        if 'h' in duration[i] :\n",
        "            duration[i] = duration[i].strip() + ' 0m'\n",
        "        elif 'm' in duration[i] :\n",
        "            duration[i] = '0h {}'.format(duration[i].strip())\n",
        "\n",
        "dur_hours = []\n",
        "dur_minutes = []  \n",
        "dur_seconds = []\n",
        "for i in range(len(duration)) :\n",
        "    dur_minutes.append(int(duration[i].split()[0][:-1])*60 + int(duration[i].split()[1][:-1]))\n",
        "    dur_seconds.append(int(duration[i].split()[0][:-1])*60*60 + int(duration[i].split()[1][:-1])*60)\n",
        "df_train[\"Duration_minutes\"] = dur_minutes\n",
        "df_train.drop([\"Duration\"], axis=1, inplace = True)"
      ],
      "execution_count": 0,
      "outputs": []
    },
    {
      "cell_type": "code",
      "metadata": {
        "id": "5eg1TRG-fCQd",
        "colab_type": "code",
        "colab": {}
      },
      "source": [
        "import numpy as np\n",
        "X = df_train.drop(['Price'], axis=1)\n",
        "y = np.log1p(df_train[\"Price\"])\n",
        "X_to_predict = df_to_predict"
      ],
      "execution_count": 0,
      "outputs": []
    },
    {
      "cell_type": "code",
      "metadata": {
        "id": "YiW0qk55MyHY",
        "colab_type": "code",
        "colab": {}
      },
      "source": [
        "\"To find perticular data type field\n",
        "X.select_dtypes(include='float')"
      ],
      "execution_count": 0,
      "outputs": []
    },
    {
      "cell_type": "code",
      "metadata": {
        "id": "F05QHRLZZNn_",
        "colab_type": "code",
        "colab": {}
      },
      "source": [
        "\"\"\" Now we are going to implement same cleaning operation\n",
        "to the Test Data set \"\"\"\n",
        "df_to_predict.isnull().sum()"
      ],
      "execution_count": 0,
      "outputs": []
    },
    {
      "cell_type": "code",
      "metadata": {
        "id": "SzPCOTteDSRd",
        "colab_type": "code",
        "colab": {}
      },
      "source": [
        ""
      ],
      "execution_count": 0,
      "outputs": []
    },
    {
      "cell_type": "code",
      "metadata": {
        "id": "JP6u6Nh_CeuY",
        "colab_type": "code",
        "colab": {}
      },
      "source": [
        "# Find duplicated valu in test dataset\n",
        "#Select Duplicate Value\n",
        "df_to_predict.duplicated()\n",
        "#Select Duplicate rows expect first occurrence based on all columns\n",
        "duplicateRowsDF_toTest = df_to_predict[df_to_predict.duplicated()]\n",
        "print(\"Total Duplicate rows expect first occurrence are :\")\n",
        "duplicateRowsDF_toTest.shape"
      ],
      "execution_count": 0,
      "outputs": []
    },
    {
      "cell_type": "code",
      "metadata": {
        "id": "QJE3wF61D2CO",
        "colab_type": "code",
        "colab": {}
      },
      "source": [
        "df_to_predict.head()"
      ],
      "execution_count": 0,
      "outputs": []
    },
    {
      "cell_type": "code",
      "metadata": {
        "id": "TgbRNTmqFRX3",
        "colab_type": "code",
        "colab": {}
      },
      "source": [
        "######## Data Cleaning ###########\n",
        "# df_to_predict.head()\n",
        "# print(\"Train Set:\\n\", df_to_predict[\"Additional_Info\"].value_counts())"
      ],
      "execution_count": 0,
      "outputs": []
    },
    {
      "cell_type": "code",
      "metadata": {
        "id": "iBywIQCdJPpX",
        "colab_type": "code",
        "colab": {}
      },
      "source": [
        "#########df[\"isWeekend\"] = ((pd.to_datetime(df[\"Date_of_Journey\"], format='%d/%m/%Y').dt.dayofweek).astype(int)\n",
        "df_to_predict[\"isWeekend\"] = ((pd.to_datetime(df_to_predict[\"Date_of_Journey\"], format = '%d/%m/%Y').dt.dayofweek) // 5 == 1).astype(int)\n",
        "df_to_predict[\"Day_of_Week\"] = pd.to_datetime(df_to_predict[\"Date_of_Journey\"], format = '%d/%m/%Y').dt.day_name()\n",
        "df_to_predict[\"Day_Of_Journey\"] = pd.to_datetime(df_to_predict[\"Date_of_Journey\"], format = '%d/%m/%Y').dt.day\n",
        "df_to_predict[\"Month_of_Journey\"] = pd.to_datetime(df_to_predict[\"Date_of_Journey\"], format = '%d/%m/%Y').dt.month"
      ],
      "execution_count": 0,
      "outputs": []
    },
    {
      "cell_type": "code",
      "metadata": {
        "id": "s1717HQcJ97F",
        "colab_type": "code",
        "colab": {}
      },
      "source": [
        "#######Selecting a perticular column as an list\n",
        "duration_to_predict = list(df_to_predict[\"Duration\"])\n",
        "print(duration_to_predict)"
      ],
      "execution_count": 0,
      "outputs": []
    },
    {
      "cell_type": "code",
      "metadata": {
        "id": "3Sk0i_rIKy8G",
        "colab_type": "code",
        "colab": {}
      },
      "source": [
        "for i in range(len(duration_to_predict)) :\n",
        "    if len(duration_to_predict[i].split()) != 2:\n",
        "        if 'h' in duration_to_predict[i] :\n",
        "            duration_to_predict[i] = duration_to_predict[i].strip() + ' 0m'\n",
        "        elif 'm' in duration_to_predict[i] :\n",
        "            duration_to_predict[i] = '0h {}'.format(duration_to_predict[i].strip())\n",
        "\n",
        "dur_hours = []\n",
        "dur_minutes = []  \n",
        "dur_seconds = []\n",
        "for i in range(len(duration_to_predict)) :\n",
        "    dur_minutes.append(int(duration_to_predict[i].split()[0][:-1])*60 + int(duration_to_predict[i].split()[1][:-1]))\n",
        "    dur_seconds.append(int(duration_to_predict[i].split()[0][:-1])*60*60 + int(duration_to_predict[i].split()[1][:-1])*60)\n",
        "df_to_predict[\"Duration_minutes\"] = dur_minutes\n",
        "df_to_predict.drop([\"Duration\"], axis=1, inplace = True)"
      ],
      "execution_count": 0,
      "outputs": []
    },
    {
      "cell_type": "code",
      "metadata": {
        "id": "_RRZTg8bQTU-",
        "colab_type": "code",
        "colab": {}
      },
      "source": [
        "X_to_predict = df_to_predict"
      ],
      "execution_count": 0,
      "outputs": []
    },
    {
      "cell_type": "code",
      "metadata": {
        "id": "MhrMXqqMO3S9",
        "colab_type": "code",
        "colab": {}
      },
      "source": [
        "#Separate Categorical and Numerical Column in Dataframe (df_test)\n",
        "X_categorical = X.select_dtypes(exclude=['int', 'float'])\n",
        "X_numerical = X.select_dtypes(include=['int', 'float'])\n",
        "#Separate Categorical and Numerical Column in Dataframe (Predict set)\n",
        "X_to_predict_categorical = X_to_predict.select_dtypes(exclude=['int', 'float'])\n",
        "X_to_predict_numerical = X_to_predict.select_dtypes(include=['int', 'float'])"
      ],
      "execution_count": 0,
      "outputs": []
    },
    {
      "cell_type": "code",
      "metadata": {
        "id": "XHvNxizmPcya",
        "colab_type": "code",
        "colab": {}
      },
      "source": [
        "# Label Encode and Hot encode categforical column\n",
        "from sklearn.preprocessing import LabelEncoder\n",
        "le = LabelEncoder()\n",
        "X_categorical = X_categorical.apply(le.fit_transform)\n",
        "X_to_predict_categorical = X_to_predict_categorical.apply(le.fit_transform);"
      ],
      "execution_count": 0,
      "outputs": []
    },
    {
      "cell_type": "code",
      "metadata": {
        "id": "Q7Xk66V3FDjQ",
        "colab_type": "code",
        "outputId": "81987578-6e1c-48dd-a853-7042b15a5c50",
        "colab": {
          "base_uri": "https://localhost:8080/",
          "height": 206
        }
      },
      "source": [
        "X_numerical.head()"
      ],
      "execution_count": 0,
      "outputs": [
        {
          "output_type": "execute_result",
          "data": {
            "text/html": [
              "<div>\n",
              "<style scoped>\n",
              "    .dataframe tbody tr th:only-of-type {\n",
              "        vertical-align: middle;\n",
              "    }\n",
              "\n",
              "    .dataframe tbody tr th {\n",
              "        vertical-align: top;\n",
              "    }\n",
              "\n",
              "    .dataframe thead th {\n",
              "        text-align: right;\n",
              "    }\n",
              "</style>\n",
              "<table border=\"1\" class=\"dataframe\">\n",
              "  <thead>\n",
              "    <tr style=\"text-align: right;\">\n",
              "      <th></th>\n",
              "      <th>isWeekend</th>\n",
              "      <th>Day_Of_Journey</th>\n",
              "      <th>Month_of_Journey</th>\n",
              "      <th>Duration_minutes</th>\n",
              "    </tr>\n",
              "  </thead>\n",
              "  <tbody>\n",
              "    <tr>\n",
              "      <th>0</th>\n",
              "      <td>1</td>\n",
              "      <td>24</td>\n",
              "      <td>3</td>\n",
              "      <td>170</td>\n",
              "    </tr>\n",
              "    <tr>\n",
              "      <th>1</th>\n",
              "      <td>0</td>\n",
              "      <td>1</td>\n",
              "      <td>5</td>\n",
              "      <td>445</td>\n",
              "    </tr>\n",
              "    <tr>\n",
              "      <th>2</th>\n",
              "      <td>1</td>\n",
              "      <td>9</td>\n",
              "      <td>6</td>\n",
              "      <td>1140</td>\n",
              "    </tr>\n",
              "    <tr>\n",
              "      <th>3</th>\n",
              "      <td>1</td>\n",
              "      <td>12</td>\n",
              "      <td>5</td>\n",
              "      <td>325</td>\n",
              "    </tr>\n",
              "    <tr>\n",
              "      <th>4</th>\n",
              "      <td>0</td>\n",
              "      <td>1</td>\n",
              "      <td>3</td>\n",
              "      <td>285</td>\n",
              "    </tr>\n",
              "  </tbody>\n",
              "</table>\n",
              "</div>"
            ],
            "text/plain": [
              "   isWeekend  Day_Of_Journey  Month_of_Journey  Duration_minutes\n",
              "0          1              24                 3               170\n",
              "1          0               1                 5               445\n",
              "2          1               9                 6              1140\n",
              "3          1              12                 5               325\n",
              "4          0               1                 3               285"
            ]
          },
          "metadata": {
            "tags": []
          },
          "execution_count": 24
        }
      ]
    },
    {
      "cell_type": "code",
      "metadata": {
        "id": "05Ife2C6qSa6",
        "colab_type": "code",
        "outputId": "289dc830-86dd-49cc-f661-93aa6c35b679",
        "colab": {
          "base_uri": "https://localhost:8080/",
          "height": 90
        }
      },
      "source": [
        "#checking the numerical features skew\n",
        "from scipy.stats import skew\n",
        "skewed_feats = X_numerical.apply(lambda x: skew(x.dropna())).sort_values(ascending=False)\n",
        "print(\"\\nSkew in numerical features: \\n\")\n",
        "skewness = pd.DataFrame({'Skew' :skewed_feats})\n",
        "skewness.head(10)\n",
        "skewness = skewness[abs(skewness) > 0.75]\n",
        "print(\"There are {} skewed numerical features to Box Cox transform\".format(skewness.shape[0]))"
      ],
      "execution_count": 0,
      "outputs": [
        {
          "output_type": "stream",
          "text": [
            "\n",
            "Skew in numerical features: \n",
            "\n",
            "There are 4 skewed numerical features to Box Cox transform\n"
          ],
          "name": "stdout"
        }
      ]
    },
    {
      "cell_type": "code",
      "metadata": {
        "id": "vb0Kqroilgeu",
        "colab_type": "code",
        "colab": {}
      },
      "source": [
        "# In the case of numerical features, we can perform different types of scaling like MinMax, StandardScaler or BoxCox tranformation.\n",
        "# We are doing Scaling here\n",
        "from sklearn.preprocessing import StandardScaler\n",
        "from sklearn.preprocessing import MinMaxScaler\n",
        "cols_train = list(X_numerical.columns)\n",
        "index_train = X_numerical.index.tolist()\n",
        "cols_test = list(X_to_predict_numerical.columns)\n",
        "index_test = X_to_predict_numerical.index.tolist()\n",
        "\n",
        "# We can also use standard scaler if required...The code is commented for now\n",
        "# Get column names first\n",
        "X_numerical_names = X_numerical.columns\n",
        "X_numerical_index = X_numerical.index\n",
        "X_to_predict_numerical_names = X_to_predict_numerical.columns\n",
        "# Create the Scaler object\n",
        "# scaler = StandardScaler()\n",
        "# Fit your data on the scaler object\n",
        "# scaled_df = scaler.fit_transform(X_numerical)\n",
        "# X_numerical = pd.DataFrame(scaled_df, columns=X_numerical_names, index=index_train)\n",
        "# scaled_df_to_predict = scaler.fit_transform(X_to_predict_numerical)\n",
        "# X_to_predict_numerical = pd.DataFrame(scaled_df_to_predict, columns=X_to_predict_numerical_names, index = index_test)\n",
        "\n",
        "# mmx = MinMaxScaler()\n",
        "# df_minmax = mmx.fit_transform(X_numerical)\n",
        "# df_minmax_test = mmx.fit_transform(X_to_predict_numerical)\n",
        "# X_numerical = pd.DataFrame(data=df_minmax,columns=cols_train,index=index_train)\n",
        "# X_to_predict_numerical = pd.DataFrame(data=df_minmax_test,columns=cols_test,index=index_test)\n",
        "\n",
        "from scipy.special import boxcox1p\n",
        "skewed_features = skewness.index\n",
        "lam = 0.5\n",
        "for feat in skewed_features:\n",
        "    #all_data[feat] += 1\n",
        "    X_numerical[feat] = boxcox1p(X_numerical[feat], lam)\n",
        "    X_to_predict_numerical[feat] = boxcox1p(X_to_predict_numerical[feat], lam)\n"
      ],
      "execution_count": 0,
      "outputs": []
    },
    {
      "cell_type": "code",
      "metadata": {
        "id": "uwNiQO3fL7Cv",
        "colab_type": "code",
        "colab": {}
      },
      "source": [
        "X_numerical.head()"
      ],
      "execution_count": 0,
      "outputs": []
    },
    {
      "cell_type": "code",
      "metadata": {
        "id": "qvEDGdVbJ9Xm",
        "colab_type": "code",
        "colab": {}
      },
      "source": [
        "#Merge categorical and numerical columns back into respective X and X_to_predict\n",
        "X = pd.concat([X_categorical, X_numerical], axis=1)\n",
        "X_to_predict = pd.concat([X_to_predict_categorical, X_to_predict_numerical], axis=1)"
      ],
      "execution_count": 0,
      "outputs": []
    },
    {
      "cell_type": "code",
      "metadata": {
        "id": "8fOWIHTZKDJ2",
        "colab_type": "code",
        "colab": {}
      },
      "source": [
        "#Check shape of all three to verify that merge was done properly in above step\n",
        "print(X.shape, X_numerical.shape, X_categorical.shape)\n",
        "print(X_to_predict.shape, X_to_predict_numerical.shape, X_to_predict_categorical.shape)"
      ],
      "execution_count": 0,
      "outputs": []
    },
    {
      "cell_type": "code",
      "metadata": {
        "id": "xAoRjgpJIViA",
        "colab_type": "code",
        "colab": {}
      },
      "source": [
        "from sklearn.model_selection import train_test_split\n",
        "from sklearn import metrics\n",
        "import numpy as np\n",
        "from sklearn.metrics import mean_squared_log_error\n",
        "# We have created a function to print accuracy metrics which can be used\n",
        "# to get accuracy metrics of all models in upcoming steps\n",
        "def print_accuracy_report(y_test, y_pred,X_test, model):\n",
        " print('R Squared(Accuracy)', metrics.r2_score(y_test, y_pred))   \n",
        " print('Mean Absolute Error:', metrics.mean_absolute_error(y_test, y_pred))  \n",
        " print('Mean Squared Error:', metrics.mean_squared_error(y_test, y_pred))\n",
        " print('Root Mean Squared Error:', np.sqrt(metrics.mean_squared_error(y_test, y_pred)))\n",
        " print('Root Mean Squared Log Error',np.sqrt(mean_squared_log_error( y_test, y_pred )))"
      ],
      "execution_count": 0,
      "outputs": []
    }
  ]
}